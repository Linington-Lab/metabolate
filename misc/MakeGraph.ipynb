{
 "cells": [
  {
   "cell_type": "code",
   "execution_count": 2,
   "metadata": {},
   "outputs": [
    {
     "name": "stderr",
     "output_type": "stream",
     "text": [
      "Scoring Baskets: 573396it [00:22, 25772.76it/s]\n"
     ]
    },
    {
     "name": "stdout",
     "output_type": "stream",
     "text": [
      "Name: \n",
      "Type: Graph\n",
      "Number of nodes: 3\n",
      "Number of edges: 0\n",
      "Average degree:   0.0000\n",
      "Name: \n",
      "Type: Graph\n",
      "Number of nodes: 573399\n",
      "Number of edges: 0\n",
      "Average degree:   0.0000\n",
      "Name: \n",
      "Type: Graph\n",
      "Number of nodes: 573399\n",
      "Number of edges: 660595\n",
      "Average degree:   2.3041\n"
     ]
    }
   ],
   "source": [
    "# coding: utf-8\n",
    "import networkx as nx\n",
    "import metabolate.core as meta\n",
    "from collections import namedtuple\n",
    "\n",
    "actd = meta.load_activity_data('ExampleFiles/Activity.csv')\n",
    "configd = meta.load_config()\n",
    "baskets = meta.load_basket_data('ExampleFiles/Replicated/Basketed.csv', configd)\n",
    "scores = meta.score_baskets(baskets, actd)\n",
    "scored = scores; scores = scored.get('Activity')\n",
    "edges = []; basket_info=[]; _basket_keys=['PrecMz','RetTime','PrecIntensity']\n",
    "samples = set()\n",
    "binfo = namedtuple('Basket', ['id','freq']+[k.lower() for k in _basket_keys]+\n",
    "                             ['activity_score', 'cluster_score'])\n",
    "\n",
    "for i, bask in enumerate(baskets):\n",
    "    bid = f\"Basket_{i}\"\n",
    "    try:\n",
    "        score = scores[i]\n",
    "    except IndexError:\n",
    "        print(\"Error for \" + bid)\n",
    "    samples.update(bask['samples'])\n",
    "    for samp in bask['samples']:\n",
    "        edges.append((bid, samp))\n",
    "    basket_info.append(binfo(bid, len(bask['samples']), *[bask[k] for k in\n",
    "                                                         _basket_keys], \n",
    "                             score.activity, score.cluster))\n",
    "\n",
    "G = nx.Graph()\n",
    "\n",
    "for samp in samples:\n",
    "    G.add_node(samp)\n",
    "print(nx.info(G))\n",
    "\n",
    "for b in basket_info:\n",
    "    G.add_node(b.id, **b._asdict())\n",
    "print(nx.info(G))\n",
    "\n",
    "G.add_edges_from(edges)\n",
    "print(nx.info(G))"
   ]
  },
  {
   "cell_type": "code",
   "execution_count": 3,
   "metadata": {},
   "outputs": [],
   "source": [
    "import matplotlib.pyplot as plt"
   ]
  },
  {
   "cell_type": "code",
   "execution_count": null,
   "metadata": {},
   "outputs": [],
   "source": [
    "nx.draw(G)"
   ]
  },
  {
   "cell_type": "code",
   "execution_count": null,
   "metadata": {},
   "outputs": [],
   "source": []
  }
 ],
 "metadata": {
  "kernelspec": {
   "display_name": "Python 3",
   "language": "python",
   "name": "python3"
  },
  "language_info": {
   "codemirror_mode": {
    "name": "ipython",
    "version": 3
   },
   "file_extension": ".py",
   "mimetype": "text/x-python",
   "name": "python",
   "nbconvert_exporter": "python",
   "pygments_lexer": "ipython3",
   "version": "3.7.3"
  }
 },
 "nbformat": 4,
 "nbformat_minor": 2
}
